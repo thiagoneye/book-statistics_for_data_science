{
 "cells": [
  {
   "cell_type": "markdown",
   "id": "1120f117",
   "metadata": {},
   "source": [
    "# Estatística Prática para Cientistas de Dados\n",
    "## Peter Bruce & Andrew Bruce\n",
    "\n",
    "### Capítulo 3: Experimentos Estatísticos e Teste de Significância\n"
   ]
  },
  {
   "cell_type": "code",
   "execution_count": 1,
   "id": "b4b46e50",
   "metadata": {},
   "outputs": [],
   "source": [
    "# Importações\n",
    "\n",
    "import pandas as pd\n",
    "import numpy as np\n",
    "\n",
    "import seaborn as sns\n",
    "import matplotlib.pylab as plt\n",
    "\n",
    "import random\n",
    "\n",
    "from scipy import stats\n",
    "from statsmodels.stats import power\n",
    "import statsmodels.api as sm\n",
    "import statsmodels.formula.api as smf\n"
   ]
  },
  {
   "cell_type": "code",
   "execution_count": 2,
   "id": "9f7dc9a8",
   "metadata": {},
   "outputs": [],
   "source": [
    "# Conjunto de Dados\n",
    "\n",
    "PATH = '../database/'\n",
    "\n",
    "CLICK_RATE = PATH + 'click_rates.csv'\n",
    "FOUR_SESSIONS = PATH + 'four_sessions.csv'\n",
    "IMANISHI = PATH + 'imanishi_data.csv'\n",
    "WEB_PAGE_DATA = PATH + 'web_page_data.csv'\n"
   ]
  },
  {
   "cell_type": "markdown",
   "id": "e2a1b02f",
   "metadata": {},
   "source": []
  },
  {
   "cell_type": "code",
   "execution_count": null,
   "id": "5dbbc24e",
   "metadata": {},
   "outputs": [],
   "source": []
  }
 ],
 "metadata": {
  "kernelspec": {
   "display_name": "Python 3 (ipykernel)",
   "language": "python",
   "name": "python3"
  },
  "language_info": {
   "codemirror_mode": {
    "name": "ipython",
    "version": 3
   },
   "file_extension": ".py",
   "mimetype": "text/x-python",
   "name": "python",
   "nbconvert_exporter": "python",
   "pygments_lexer": "ipython3",
   "version": "3.10.9"
  }
 },
 "nbformat": 4,
 "nbformat_minor": 5
}
