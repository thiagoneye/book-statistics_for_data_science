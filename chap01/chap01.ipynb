{
 "cells": [
  {
   "cell_type": "markdown",
   "id": "77128a9c",
   "metadata": {},
   "source": [
    "# Estatística Prática para Cientistas de Dados\n",
    "## Peter Bruce & Andrew Bruce\n",
    "\n",
    "### Capítulo 1: Análise Exploratória de Dados\n"
   ]
  },
  {
   "cell_type": "code",
   "execution_count": 1,
   "id": "2a4389a7",
   "metadata": {},
   "outputs": [],
   "source": [
    "# Importações\n",
    "\n",
    "import numpy as np\n",
    "import pandas as pd\n",
    "from scipy.stats import trim_mean, median_abs_deviation, iqr\n"
   ]
  },
  {
   "cell_type": "code",
   "execution_count": 2,
   "id": "5ee3632e",
   "metadata": {},
   "outputs": [],
   "source": [
    "# Funções Auxiliares\n",
    "\n",
    "def weighted_median(values, weights) -> float:\n",
    "    indeces = np.argsort(values)\n",
    "    values = np.sort(values)\n",
    "    weights = weights[indeces]\n",
    "    \n",
    "    cumsum_weights = np.cumsum(weights)\n",
    "    central_value = max(cumsum_weights)/2\n",
    "    \n",
    "    if np.any(cumsum_weights == central_value):\n",
    "        median = values[cumsum_weights == central_value]\n",
    "    else:\n",
    "        lower_value_index = sum(cumsum_weights < central_value) - 1\n",
    "        top_value_index = lower_value_index + 1\n",
    "        \n",
    "        median = (values[lower_value_index] + values[top_value_index])/2\n",
    "    \n",
    "    return median\n",
    "\n",
    "def mean_abs_deviation(values) -> float:\n",
    "    mean = np.mean(values)\n",
    "    deviations = values - mean\n",
    "    abs_deviations = np.absolute(deviations)\n",
    "    \n",
    "    result = np.mean(abs_deviations)\n",
    "    \n",
    "    return result\n"
   ]
  },
  {
   "cell_type": "markdown",
   "id": "87c17061",
   "metadata": {},
   "source": [
    "#### Estimativas de Localização\n"
   ]
  },
  {
   "cell_type": "code",
   "execution_count": 3,
   "id": "b4bd231a",
   "metadata": {},
   "outputs": [
    {
     "name": "stdout",
     "output_type": "stream",
     "text": [
      "A média é 2.75\n"
     ]
    }
   ],
   "source": [
    "# Exemplo 1\n",
    "\n",
    "# Média\n",
    "\n",
    "conjunto_de_numeros = np.array([3, 5, 1, 2])\n",
    "media = np.mean(conjunto_de_numeros)\n",
    "print(f'A média é {media}')\n"
   ]
  },
  {
   "cell_type": "code",
   "execution_count": 4,
   "id": "04034c24",
   "metadata": {
    "scrolled": false
   },
   "outputs": [
    {
     "data": {
      "text/html": [
       "<div>\n",
       "<style scoped>\n",
       "    .dataframe tbody tr th:only-of-type {\n",
       "        vertical-align: middle;\n",
       "    }\n",
       "\n",
       "    .dataframe tbody tr th {\n",
       "        vertical-align: top;\n",
       "    }\n",
       "\n",
       "    .dataframe thead th {\n",
       "        text-align: right;\n",
       "    }\n",
       "</style>\n",
       "<table border=\"1\" class=\"dataframe\">\n",
       "  <thead>\n",
       "    <tr style=\"text-align: right;\">\n",
       "      <th></th>\n",
       "      <th>State</th>\n",
       "      <th>Population</th>\n",
       "      <th>Murder.Rate</th>\n",
       "      <th>Abbreviation</th>\n",
       "    </tr>\n",
       "  </thead>\n",
       "  <tbody>\n",
       "    <tr>\n",
       "      <th>0</th>\n",
       "      <td>Alabama</td>\n",
       "      <td>4779736</td>\n",
       "      <td>5.7</td>\n",
       "      <td>AL</td>\n",
       "    </tr>\n",
       "    <tr>\n",
       "      <th>1</th>\n",
       "      <td>Alaska</td>\n",
       "      <td>710231</td>\n",
       "      <td>5.6</td>\n",
       "      <td>AK</td>\n",
       "    </tr>\n",
       "    <tr>\n",
       "      <th>2</th>\n",
       "      <td>Arizona</td>\n",
       "      <td>6392017</td>\n",
       "      <td>4.7</td>\n",
       "      <td>AZ</td>\n",
       "    </tr>\n",
       "    <tr>\n",
       "      <th>3</th>\n",
       "      <td>Arkansas</td>\n",
       "      <td>2915918</td>\n",
       "      <td>5.6</td>\n",
       "      <td>AR</td>\n",
       "    </tr>\n",
       "    <tr>\n",
       "      <th>4</th>\n",
       "      <td>California</td>\n",
       "      <td>37253956</td>\n",
       "      <td>4.4</td>\n",
       "      <td>CA</td>\n",
       "    </tr>\n",
       "    <tr>\n",
       "      <th>5</th>\n",
       "      <td>Colorado</td>\n",
       "      <td>5029196</td>\n",
       "      <td>2.8</td>\n",
       "      <td>CO</td>\n",
       "    </tr>\n",
       "    <tr>\n",
       "      <th>6</th>\n",
       "      <td>Connecticut</td>\n",
       "      <td>3574097</td>\n",
       "      <td>2.4</td>\n",
       "      <td>CT</td>\n",
       "    </tr>\n",
       "    <tr>\n",
       "      <th>7</th>\n",
       "      <td>Delaware</td>\n",
       "      <td>897934</td>\n",
       "      <td>5.8</td>\n",
       "      <td>DE</td>\n",
       "    </tr>\n",
       "  </tbody>\n",
       "</table>\n",
       "</div>"
      ],
      "text/plain": [
       "         State  Population  Murder.Rate Abbreviation\n",
       "0      Alabama     4779736          5.7           AL\n",
       "1       Alaska      710231          5.6           AK\n",
       "2      Arizona     6392017          4.7           AZ\n",
       "3     Arkansas     2915918          5.6           AR\n",
       "4   California    37253956          4.4           CA\n",
       "5     Colorado     5029196          2.8           CO\n",
       "6  Connecticut     3574097          2.4           CT\n",
       "7     Delaware      897934          5.8           DE"
      ]
     },
     "metadata": {},
     "output_type": "display_data"
    },
    {
     "name": "stdout",
     "output_type": "stream",
     "text": [
      "\n",
      "- Medidas de Localidade para a População\n",
      "\n",
      "A média é 6162876\n",
      "A média aparada (trim mean) é 4783697\n",
      "A mediana é 4436370\n",
      "\n",
      "- Medidas de Localidade para a Taxa Média de Homicídios\n",
      "\n",
      "A média ponderada é 4.445833981123393\n",
      "A mediana ponderada é 4.4\n"
     ]
    }
   ],
   "source": [
    "# Exemplo 2\n",
    "\n",
    "# Conjunto de Dados\n",
    "\n",
    "state = pd.read_csv('../database/state.csv')\n",
    "display(state.head(8))\n",
    "\n",
    "print('\\n- Medidas de Localidade para a População\\n')\n",
    "print(f'A média é {round(state.Population.mean())}')\n",
    "print(f'A média aparada (trim mean) é {round(trim_mean(state.Population, proportiontocut=0.1))}')\n",
    "print(f'A mediana é {round(state.Population.median())}')\n",
    "\n",
    "print('\\n- Medidas de Localidade para a Taxa Média de Homicídios\\n')\n",
    "print(f\"A média ponderada é {np.average(state['Murder.Rate'], weights=state.Population)}\")\n",
    "print(f\"A mediana ponderada é {weighted_median(state['Murder.Rate'], state.Population)}\")\n"
   ]
  },
  {
   "cell_type": "markdown",
   "id": "283c1910",
   "metadata": {},
   "source": [
    "#### Estimativas de Variabilidade"
   ]
  },
  {
   "cell_type": "code",
   "execution_count": 5,
   "id": "1cae43b7",
   "metadata": {},
   "outputs": [
    {
     "name": "stdout",
     "output_type": "stream",
     "text": [
      "Os desvios da média do conjunto de dados são [-2  1  1]\n",
      "Os valores absolutos dos desvios são [2 1 1]\n",
      "O desvio absoluto médio (ou norma de Manhattan) é 1.33\n"
     ]
    }
   ],
   "source": [
    "# Exemplo 3\n",
    "\n",
    "conjunto_de_dados = np.array([1, 4, 4])\n",
    "media = round(np.mean(conjunto_de_dados))\n",
    "desvios = conjunto_de_dados - media\n",
    "\n",
    "print(f'Os desvios da média do conjunto de dados são {desvios}')\n",
    "print(f'Os valores absolutos dos desvios são {np.absolute(desvios)}')\n",
    "print(f'O desvio absoluto médio (ou norma de Manhattan) é {round(mean_abs_deviation(conjunto_de_dados), 2)}')\n"
   ]
  },
  {
   "cell_type": "code",
   "execution_count": 6,
   "id": "4d756bce",
   "metadata": {},
   "outputs": [
    {
     "data": {
      "text/html": [
       "<div>\n",
       "<style scoped>\n",
       "    .dataframe tbody tr th:only-of-type {\n",
       "        vertical-align: middle;\n",
       "    }\n",
       "\n",
       "    .dataframe tbody tr th {\n",
       "        vertical-align: top;\n",
       "    }\n",
       "\n",
       "    .dataframe thead th {\n",
       "        text-align: right;\n",
       "    }\n",
       "</style>\n",
       "<table border=\"1\" class=\"dataframe\">\n",
       "  <thead>\n",
       "    <tr style=\"text-align: right;\">\n",
       "      <th></th>\n",
       "      <th>State</th>\n",
       "      <th>Population</th>\n",
       "      <th>Murder.Rate</th>\n",
       "      <th>Abbreviation</th>\n",
       "    </tr>\n",
       "  </thead>\n",
       "  <tbody>\n",
       "    <tr>\n",
       "      <th>0</th>\n",
       "      <td>Alabama</td>\n",
       "      <td>4779736</td>\n",
       "      <td>5.7</td>\n",
       "      <td>AL</td>\n",
       "    </tr>\n",
       "    <tr>\n",
       "      <th>1</th>\n",
       "      <td>Alaska</td>\n",
       "      <td>710231</td>\n",
       "      <td>5.6</td>\n",
       "      <td>AK</td>\n",
       "    </tr>\n",
       "    <tr>\n",
       "      <th>2</th>\n",
       "      <td>Arizona</td>\n",
       "      <td>6392017</td>\n",
       "      <td>4.7</td>\n",
       "      <td>AZ</td>\n",
       "    </tr>\n",
       "    <tr>\n",
       "      <th>3</th>\n",
       "      <td>Arkansas</td>\n",
       "      <td>2915918</td>\n",
       "      <td>5.6</td>\n",
       "      <td>AR</td>\n",
       "    </tr>\n",
       "    <tr>\n",
       "      <th>4</th>\n",
       "      <td>California</td>\n",
       "      <td>37253956</td>\n",
       "      <td>4.4</td>\n",
       "      <td>CA</td>\n",
       "    </tr>\n",
       "  </tbody>\n",
       "</table>\n",
       "</div>"
      ],
      "text/plain": [
       "        State  Population  Murder.Rate Abbreviation\n",
       "0     Alabama     4779736          5.7           AL\n",
       "1      Alaska      710231          5.6           AK\n",
       "2     Arizona     6392017          4.7           AZ\n",
       "3    Arkansas     2915918          5.6           AR\n",
       "4  California    37253956          4.4           CA"
      ]
     },
     "metadata": {},
     "output_type": "display_data"
    },
    {
     "name": "stdout",
     "output_type": "stream",
     "text": [
      "\n",
      "- Medidas de Dispersão para a População\n",
      "\n",
      "O desvio padrão é 6848235\n",
      "A amplitude interquartis (IQR) é 4847308\n",
      "O desvio absoluto mediano é 2596702\n"
     ]
    }
   ],
   "source": [
    "# Exemplo 4\n",
    "\n",
    "display(state.head())\n",
    "\n",
    "print(f'\\n- Medidas de Dispersão para a População\\n')\n",
    "print(f'O desvio padrão é {round(state.Population.std())}')\n",
    "print(f'A amplitude interquartis (IQR) é {round(iqr(state.Population))}')\n",
    "print(f'O desvio absoluto mediano é {round(median_abs_deviation(state.Population))}')\n"
   ]
  },
  {
   "cell_type": "markdown",
   "id": "eb2d520b",
   "metadata": {},
   "source": [
    "#### Explorando a Distribuição de Dados"
   ]
  },
  {
   "cell_type": "code",
   "execution_count": 7,
   "id": "982db186",
   "metadata": {},
   "outputs": [
    {
     "name": "stdout",
     "output_type": "stream",
     "text": [
      "Os quantis da Taxa de Homicídio são:\n",
      "[[0.05  0.25  0.5   0.75  0.95 ]\n",
      " [1.6   2.425 4.    5.55  6.51 ]]\n",
      "\n",
      "O Boxplot para a População é:\n"
     ]
    },
    {
     "data": {
      "image/png": "[encoded data removed]",
      "text/plain": [
       "<Figure size 432x288 with 1 Axes>"
      ]
     },
     "metadata": {
      "needs_background": "light"
     },
     "output_type": "display_data"
    }
   ],
   "source": [
    "# Exemplo 5\n",
    "\n",
    "references = np.array([0.05, 0.25, 0.5, 0.75, 0.95])\n",
    "quantis = np.quantile(state['Murder.Rate'], references)\n",
    "\n",
    "print(f'Os quantis da Taxa de Homicídio são:\\n{np.array([references, quantis])}\\n')\n",
    "\n",
    "print('O Boxplot para a População é:')\n",
    "state.boxplot(column='Population', grid=False);"
   ]
  },
  {
   "cell_type": "markdown",
   "id": "766507e8",
   "metadata": {},
   "source": [
    "#### Explorando Dados Binários e Categóricos"
   ]
  },
  {
   "cell_type": "markdown",
   "id": "f994be93",
   "metadata": {},
   "source": [
    "#### Correlação"
   ]
  },
  {
   "cell_type": "markdown",
   "id": "ac55ba43",
   "metadata": {},
   "source": [
    "#### Explorando Duas ou Mais Variáveis"
   ]
  }
 ],
 "metadata": {
  "kernelspec": {
   "display_name": "Python 3 (ipykernel)",
   "language": "python",
   "name": "python3"
  },
  "language_info": {
   "codemirror_mode": {
    "name": "ipython",
    "version": 3
   },
   "file_extension": ".py",
   "mimetype": "text/x-python",
   "name": "python",
   "nbconvert_exporter": "python",
   "pygments_lexer": "ipython3",
   "version": "3.9.7"
  }
 },
 "nbformat": 4,
 "nbformat_minor": 5
}
